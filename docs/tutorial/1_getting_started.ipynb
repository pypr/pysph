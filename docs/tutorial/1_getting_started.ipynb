{
 "cells": [
  {
   "cell_type": "markdown",
   "metadata": {},
   "source": [
    "# PySPH tutorial: Getting started\n",
    "\n",
    "*Prabhu Ramachandran*\n",
    "\n",
    "Department of Aerospace Engineering, IIT Bombay\n",
    "\n",
    "----\n"
   ]
  },
  {
   "cell_type": "markdown",
   "metadata": {},
   "source": [
    "## Installation and getting started\n",
    "\n",
    "This is a simple introduction to PySPH.  The PySPH documentation is here: http://pysph.readthedocs.io\n",
    "\n",
    "1. First install PySPH.  See here: http://pysph.readthedocs.io/en/latest/installation.html\n",
    "2. Go over the installation and getting started page\n",
    "\n",
    "\n",
    "Importantly, once you have PySPH installed run a simple example, as so:\n",
    "\n",
    "    $ pysph run elliptical_drop\n",
    "    \n",
    "or\n",
    "\n",
    "    $ pysph run rigid_body.bouncing_cubes\n",
    "    \n",
    "    \n",
    "Then view the generated output:\n",
    "\n",
    "    $ pysph view elliptical_drop_output\n",
    "    \n",
    "    \n",
    "If this produces a nice looking view, you should be mostly set.  It may be handy to be able to run pysph on openmp:\n",
    "\n",
    "    $ pysph run elliptical_drop --openmp\n",
    "\n",
    "If you get this far and everything works, you should be in good shape.\n"
   ]
  },
  {
   "cell_type": "markdown",
   "metadata": {},
   "source": [
    "## More on the examples\n",
    "\n",
    "\n",
    "The examples are all written in pure Python.  To see the sources for the examples you could either visit the github sources here: https://github.com/pypr/pysph/tree/main/pysph/examples\n",
    "\n",
    "Alternatively try this:\n",
    "\n",
    "    $ pysph run\n",
    "    \n",
    "Now you can pick among 40 odd examples.  To see the source of a simple one you can do the following:\n",
    "\n",
    "\n",
    "    $ pysph run --cat elliptical_drop\n",
    "    \n",
    "    \n",
    "This will simply show you the source code without executing it.  You could have also run the example by changing directory into the `<pysph_root>/pysph/examples` directory and running the example, for example let us do this easily as follows:\n",
    "\n",
    "\n",
    "    $ pysph run --cat elliptical_drop > ed.py    # This puts the source into ed.py in the current dir.\n",
    "    \n",
    "    $ python ed.py\n",
    "    \n",
    "**NOTE: **  there is also a `<pysph_root>/old_examples` directory which you should not use.\n",
    "    \n",
    "You can also import the examples from Python and thus could just as well have run this example as:\n",
    "\n",
    "    $ python -m pysph.examples.elliptical_drop\n",
    "\n",
    "\n",
    "The point I am making is that `pysph run` is not doing anything special at all, it just makes it a tad easier to run the examples.  These examples are usually quite useful and can also be subclassed if you wish to reuse them.\n",
    "\n"
   ]
  },
  {
   "cell_type": "markdown",
   "metadata": {},
   "source": [
    "\n",
    "### Using the PySPH library\n",
    "\n",
    "\n",
    "In order to simulate your own problems you need to understand the anatomy of a PySPH simulation.  All the examples typically will do the following:\n",
    "\n",
    "1. Create some particles\n",
    "2. Specify the equations for the inter-particle interactions.\n",
    "3. Specify the integrators to use.\n",
    "4. Put these together in an `Application` and run this application.\n",
    "\n",
    "\n",
    "### Creating particles\n",
    "\n",
    "\n",
    "In this tutorial we will mostly explore the creation of particles in PySPH.  In PySPH, particles are created in a data structure called a `ParticleArray`.  Let us consider an example.  Let us say we have a glass of water.  Clearly we have two \"things\", a glass vessel and the water inside it.  Since we wish to capture the interaction of the water with the vessel, we would create two `ParticleArray`s.  One for the vessel which we call `\"solid\"` and the other for the water which we call `\"fluid\"`.  \n",
    "\n",
    "Some important points to note.  Each particle array \n",
    "\n",
    "- has a name (a string) which should be a valid Python variable name, `\"fluid\"` and `\"solid\"` are good as would be `\"fluid1\"` and `\"fluid2\"`.\n",
    "\n",
    "- has a collection of various particle properties, like the position `x, y, z`, velocity components `u, v, w`, other scalar properties `m, h, rho` etc.  All of these properties are scalars.\n",
    "\n",
    "- has a collection of \"constants\", which can have an arbitrary size but are internally stored as 1D arrays.\n",
    "\n",
    "The properties are used for things that typically vary, from particle to particle.\n",
    "\n",
    "The constants are used for things that are constant for all the particles.\n",
    "\n",
    "Let us now try to create a particle array in order to understand it better.\n"
   ]
  },
  {
   "cell_type": "code",
   "execution_count": null,
   "metadata": {
    "collapsed": true
   },
   "outputs": [],
   "source": [
    "from __future__ import print_function"
   ]
  },
  {
   "cell_type": "code",
   "execution_count": null,
   "metadata": {
    "collapsed": true
   },
   "outputs": [],
   "source": [
    "from pysph.base.particle_array import ParticleArray"
   ]
  },
  {
   "cell_type": "code",
   "execution_count": null,
   "metadata": {},
   "outputs": [],
   "source": [
    "pa = ParticleArray(name='fluid', x=[0.0, 1.0], y=0, m=0.1)\n",
    "print(pa.name, pa.x, pa.y, pa.m)"
   ]
  },
  {
   "cell_type": "markdown",
   "metadata": {},
   "source": [
    "Note that we set the name by a kwarg. \n",
    "\n",
    "#### Exercise\n",
    "\n",
    "- Try creating a particle array without the name.\n",
    "- While x was passed as a list, y and m were not, what is going on?\n",
    "- Does this work with numpy arrays?  Try it!\n",
    "- Does it work with numpy arrays of arbitrary shape?\n",
    "- What if you have arrays passed of different sizes?!\n",
    "- Can you add a new \"crazy\" property?\n"
   ]
  },
  {
   "cell_type": "code",
   "execution_count": null,
   "metadata": {
    "collapsed": true
   },
   "outputs": [],
   "source": []
  },
  {
   "cell_type": "code",
   "execution_count": null,
   "metadata": {
    "collapsed": true
   },
   "outputs": [],
   "source": []
  },
  {
   "cell_type": "code",
   "execution_count": null,
   "metadata": {
    "collapsed": true
   },
   "outputs": [],
   "source": []
  },
  {
   "cell_type": "markdown",
   "metadata": {},
   "source": [
    "#### Solution\n",
    "\n",
    "- You can create a particle array without a name but DON'T.\n",
    "- NumPy arrays work and are ravelled, lists and constants work.\n",
    "- Passing incompatible sizes is a problem and you will get an error.\n",
    "- You can add any kind of property by passing a suitable kwarg."
   ]
  },
  {
   "cell_type": "code",
   "execution_count": null,
   "metadata": {},
   "outputs": [],
   "source": [
    "pa = ParticleArray(name='fluid', x=[0.0, 1.0], y=0, m=0.1, crazy=25)"
   ]
  },
  {
   "cell_type": "code",
   "execution_count": null,
   "metadata": {},
   "outputs": [],
   "source": [
    "pa.crazy"
   ]
  },
  {
   "cell_type": "markdown",
   "metadata": {},
   "source": [
    "### Doing more\n",
    "\n",
    "- How do we discover the properties?\n",
    "- Use `pa.properties`\n",
    "- What about constants?\n"
   ]
  },
  {
   "cell_type": "code",
   "execution_count": null,
   "metadata": {},
   "outputs": [],
   "source": [
    "pa.properties"
   ]
  },
  {
   "cell_type": "markdown",
   "metadata": {},
   "source": [
    "So what are the other strange properties?  We didn't add `gid, pid and tag`\n",
    "\n",
    "So it looks like PySPH automatically adds some special props, what are these?  \n",
    "\n",
    "- gid: is a global ID for each particle, it is useful in parallel.\n",
    "- pid: represents the process ID for each particle, also relevant in parallel.\n",
    "- tag: represents the kind of particle we have.\n",
    "\n",
    "The `tag` property is probably the most useful.  It is representative of the kind of particles, the ones that are important are:\n",
    "\n",
    "- Local: see `get_local_tag` below\n",
    "- Remote: see `get_remote_tag` below\n",
    "- Ghost: see `get_ghost_tag` below\n",
    "\n",
    "\n",
    "**Questions**\n",
    "\n",
    "- What is a DoubleArray, IntArray?  \n",
    "\n"
   ]
  },
  {
   "cell_type": "code",
   "execution_count": null,
   "metadata": {},
   "outputs": [],
   "source": [
    "pa.gid"
   ]
  },
  {
   "cell_type": "code",
   "execution_count": null,
   "metadata": {},
   "outputs": [],
   "source": [
    "pa.pid"
   ]
  },
  {
   "cell_type": "code",
   "execution_count": null,
   "metadata": {},
   "outputs": [],
   "source": [
    "pa.tag"
   ]
  },
  {
   "cell_type": "code",
   "execution_count": null,
   "metadata": {
    "collapsed": true
   },
   "outputs": [],
   "source": [
    "from pysph.base.particle_array import get_local_tag, get_ghost_tag, get_remote_tag"
   ]
  },
  {
   "cell_type": "code",
   "execution_count": null,
   "metadata": {},
   "outputs": [],
   "source": [
    "print(\"Local:\", get_local_tag())\n",
    "print(\"Remote:\", get_remote_tag())\n",
    "print(\"Ghost:\", get_ghost_tag())"
   ]
  },
  {
   "cell_type": "markdown",
   "metadata": {},
   "source": [
    "#### Digression CArrays\n",
    "\n",
    "Let us answer the question \"What is this DoubleArray stuff?\"\n",
    "\n",
    "These are internal arrays that allow us to efficiently store and compute with these properties and have some useful features."
   ]
  },
  {
   "cell_type": "code",
   "execution_count": null,
   "metadata": {
    "collapsed": true
   },
   "outputs": [],
   "source": [
    "from cyarray.carray import DoubleArray"
   ]
  },
  {
   "cell_type": "code",
   "execution_count": null,
   "metadata": {},
   "outputs": [],
   "source": [
    "a = DoubleArray(5)\n",
    "x = a.get_npy_array()\n",
    "x[:] = 100"
   ]
  },
  {
   "cell_type": "code",
   "execution_count": null,
   "metadata": {},
   "outputs": [],
   "source": [
    "a[1]"
   ]
  },
  {
   "cell_type": "code",
   "execution_count": null,
   "metadata": {},
   "outputs": [],
   "source": [
    "a.append(203)\n",
    "a.length"
   ]
  },
  {
   "cell_type": "markdown",
   "metadata": {},
   "source": [
    "#### Exercise\n",
    "\n",
    "- Find the default properties.\n",
    "- Can you create a particle array with no properties in the constructor?"
   ]
  },
  {
   "cell_type": "code",
   "execution_count": null,
   "metadata": {
    "collapsed": true
   },
   "outputs": [],
   "source": [
    "empty = ParticleArray(name='dummy')"
   ]
  },
  {
   "cell_type": "code",
   "execution_count": null,
   "metadata": {},
   "outputs": [],
   "source": [
    "empty.properties"
   ]
  },
  {
   "cell_type": "code",
   "execution_count": null,
   "metadata": {
    "collapsed": true
   },
   "outputs": [],
   "source": []
  },
  {
   "cell_type": "markdown",
   "metadata": {},
   "source": [
    "### Adding constants\n",
    "\n",
    "Add them by passing a dictionary."
   ]
  },
  {
   "cell_type": "code",
   "execution_count": null,
   "metadata": {},
   "outputs": [],
   "source": [
    "pa = ParticleArray(name='fluid', x=[0.0, 1.0], constants={'rho0': 1000})\n",
    "pa.rho0"
   ]
  },
  {
   "cell_type": "code",
   "execution_count": null,
   "metadata": {},
   "outputs": [],
   "source": [
    "pa.constants"
   ]
  },
  {
   "cell_type": "markdown",
   "metadata": {},
   "source": [
    "#### Exercises\n",
    "\n",
    "- Create different kinds of constants and experiment\n",
    "- Create a vector or a 2d array.  What happens to a 2d array?"
   ]
  },
  {
   "cell_type": "code",
   "execution_count": null,
   "metadata": {
    "collapsed": true
   },
   "outputs": [],
   "source": [
    "import numpy as np"
   ]
  },
  {
   "cell_type": "code",
   "execution_count": null,
   "metadata": {
    "collapsed": true
   },
   "outputs": [],
   "source": [
    "pa = ParticleArray(name='f', x=[0.0, 1.0], \n",
    "                   constants=\n",
    "                   {'a': 1, 'b': [1,2,3], 'c': np.identity(10)})"
   ]
  },
  {
   "cell_type": "code",
   "execution_count": null,
   "metadata": {},
   "outputs": [],
   "source": [
    "pa.constants"
   ]
  },
  {
   "cell_type": "code",
   "execution_count": null,
   "metadata": {},
   "outputs": [],
   "source": [
    "pa.c"
   ]
  },
  {
   "cell_type": "markdown",
   "metadata": {},
   "source": [
    "### Particle array methods\n",
    "\n",
    "There are many methods but some more useful than others.  Let us explore this\n",
    "\n",
    "- `pa.get_number_of_particles()`\n",
    "\n",
    "\n",
    "- `pa.add_constant()`\n",
    "- `pa.add_property(...)`\n",
    "- `pa.add_particles()`\n",
    "\n",
    "- `pa.extend(n)`\n",
    "- `pa.extract_particles(...)`\n",
    "- `pa.remove_particles()`\n",
    "- `pa.remove_property(prop)`\n",
    "- `pa.remove_tagged_particles(tag)`\n",
    "\n",
    "\n",
    "The output property arrays is an important attribute.  It is what determines what is dumped to disk when you save particle arrays or run simulations.\n",
    "\n",
    "- `pa.set_output_arrays(list)`\n",
    "- `pa.output_property_arrays`\n",
    "- `pa.add_output_arrays(list)`\n",
    "\n",
    "####  Exercise\n",
    "\n",
    "- Explore all of the above methods.\n"
   ]
  },
  {
   "cell_type": "code",
   "execution_count": null,
   "metadata": {},
   "outputs": [],
   "source": [
    "pa.output_property_arrays"
   ]
  },
  {
   "cell_type": "code",
   "execution_count": null,
   "metadata": {},
   "outputs": [],
   "source": [
    "pa.add_property('x')\n",
    "pa.x = np.arange(10)"
   ]
  },
  {
   "cell_type": "markdown",
   "metadata": {},
   "source": [
    "Can also add properties with strides.  See the documentation for\n",
    "`pa.add_property(...)`\n",
    "\n",
    "here is an example\n"
   ]
  },
  {
   "cell_type": "code",
   "execution_count": null,
   "metadata": {},
   "outputs": [],
   "source": [
    "pa.add_property('A', data=2.0, stride=2)"
   ]
  },
  {
   "cell_type": "code",
   "execution_count": null,
   "metadata": {},
   "outputs": [],
   "source": [
    "# Now lets see what this does.\n",
    "pa.A"
   ]
  },
  {
   "cell_type": "markdown",
   "metadata": {},
   "source": [
    "The strided property behaves just like any other so when you add/remove particles the right thing is done.\n",
    "\n",
    "The `pa.add_output_arrays` is also important."
   ]
  },
  {
   "cell_type": "code",
   "execution_count": null,
   "metadata": {},
   "outputs": [],
   "source": [
    "pa.add_output_arrays(['x'])\n",
    "pa.output_property_arrays"
   ]
  },
  {
   "cell_type": "markdown",
   "metadata": {
    "collapsed": true
   },
   "source": [
    "- `pa.get_carray(prop)`: will get you the c array.\n",
    "- `pa.get(props)`: returns properties.\n",
    "- `pa.set(**props)`: sets the properties in one go"
   ]
  },
  {
   "cell_type": "code",
   "execution_count": null,
   "metadata": {},
   "outputs": [],
   "source": []
  },
  {
   "cell_type": "markdown",
   "metadata": {},
   "source": [
    "### The convenient `pysph.base.utils`\n",
    "\n",
    "- For many standard problems, one requires a bunch of additional properties.\n",
    "- Use the `pysph.base.utils` for these."
   ]
  },
  {
   "cell_type": "code",
   "execution_count": null,
   "metadata": {
    "collapsed": true
   },
   "outputs": [],
   "source": [
    "from pysph.base.utils import get_particle_array"
   ]
  },
  {
   "cell_type": "code",
   "execution_count": null,
   "metadata": {
    "collapsed": true
   },
   "outputs": [],
   "source": [
    "from pysph.base.utils import get_particle_array_wcsph, get_particle_array_tvf_fluid, get_particle_array_gasd"
   ]
  },
  {
   "cell_type": "code",
   "execution_count": null,
   "metadata": {},
   "outputs": [],
   "source": [
    "pa = get_particle_array_wcsph(name='fluid', x=[1, 2], m=3)\n",
    "pa.properties"
   ]
  },
  {
   "cell_type": "code",
   "execution_count": null,
   "metadata": {
    "collapsed": true
   },
   "outputs": [],
   "source": []
  },
  {
   "cell_type": "markdown",
   "metadata": {},
   "source": [
    "#### Exercises\n",
    "\n",
    "- Create particles inside a disk of radius 1.\n",
    "- Visualize the particle positions.\n",
    "- Create a WCSPH compatible particle array with these points."
   ]
  },
  {
   "cell_type": "code",
   "execution_count": null,
   "metadata": {
    "collapsed": true
   },
   "outputs": [],
   "source": [
    "%matplotlib inline\n",
    "from matplotlib import pyplot as plt"
   ]
  },
  {
   "cell_type": "code",
   "execution_count": null,
   "metadata": {
    "collapsed": true
   },
   "outputs": [],
   "source": []
  },
  {
   "cell_type": "markdown",
   "metadata": {},
   "source": [
    "#### Solution"
   ]
  },
  {
   "cell_type": "code",
   "execution_count": null,
   "metadata": {},
   "outputs": [],
   "source": [
    "%load solutions/particles_in_disk.py"
   ]
  },
  {
   "cell_type": "code",
   "execution_count": null,
   "metadata": {
    "collapsed": true
   },
   "outputs": [],
   "source": []
  }
 ],
 "metadata": {
  "kernelspec": {
   "display_name": "Python 3",
   "language": "python",
   "name": "python3"
  },
  "language_info": {
   "codemirror_mode": {
    "name": "ipython",
    "version": 3
   },
   "file_extension": ".py",
   "mimetype": "text/x-python",
   "name": "python",
   "nbconvert_exporter": "python",
   "pygments_lexer": "ipython3",
   "version": "3.6.0"
  }
 },
 "nbformat": 4,
 "nbformat_minor": 2
}
